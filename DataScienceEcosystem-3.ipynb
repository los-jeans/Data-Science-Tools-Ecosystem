{
 "cells": [
  {
   "cell_type": "markdown",
   "id": "4fba3a68",
   "metadata": {},
   "source": [
    "# Data Science Tools and Ecosystem"
   ]
  },
  {
   "cell_type": "markdown",
   "id": "520d1096",
   "metadata": {},
   "source": [
    "In this notebook, data science tools and ecosystem are summarized."
   ]
  },
  {
   "cell_type": "markdown",
   "id": "8f45e64c",
   "metadata": {},
   "source": [
    "**Objectives**\n",
    "- List popular data science languages\n",
    "- List commonly used libraries\n",
    "- Name some data science tools"
   ]
  },
  {
   "cell_type": "markdown",
   "id": "55b36a71",
   "metadata": {},
   "source": [
    "Some popular data science languages are:\n",
    "\n",
    "1. Python\n",
    "2. R\n",
    "3. SQL"
   ]
  },
  {
   "cell_type": "markdown",
   "id": "c2c28de3",
   "metadata": {},
   "source": [
    "Commonly used data science libraries are:\n",
    "1. Pandas\n",
    "2. NumPy\n",
    "2. Matplotlib"
   ]
  },
  {
   "cell_type": "markdown",
   "id": "d0545b37",
   "metadata": {},
   "source": [
    "|Data Science Tools|\n",
    "-----------------------\n",
    "|Anaconda|\n",
    "|RStudio|\n",
    "|JupyterLab|"
   ]
  },
  {
   "cell_type": "markdown",
   "id": "c6d4e764",
   "metadata": {},
   "source": [
    "### Below are a few examples of arithemtic expressions in Python"
   ]
  },
  {
   "cell_type": "code",
   "execution_count": 2,
   "id": "6e51cb09",
   "metadata": {},
   "outputs": [
    {
     "data": {
      "text/plain": [
       "17"
      ]
     },
     "execution_count": 2,
     "metadata": {},
     "output_type": "execute_result"
    }
   ],
   "source": [
    "# Here is an example of a simple arithemtic expression that multiplies and then adds integers\n",
    "(3*4)+5"
   ]
  },
  {
   "cell_type": "code",
   "execution_count": 3,
   "id": "05d249e9",
   "metadata": {},
   "outputs": [
    {
     "data": {
      "text/plain": [
       "3.3333333333333335"
      ]
     },
     "execution_count": 3,
     "metadata": {},
     "output_type": "execute_result"
    }
   ],
   "source": [
    "# This will convert 200 minutes to hours by dividing by 60\n",
    "200/60"
   ]
  },
  {
   "cell_type": "markdown",
   "id": "5669257f",
   "metadata": {},
   "source": [
    "## Author\n",
    "\n",
    "Hannah P"
   ]
  }
 ],
 "metadata": {
  "kernelspec": {
   "display_name": "Python 3 (ipykernel)",
   "language": "python",
   "name": "python3"
  },
  "language_info": {
   "codemirror_mode": {
    "name": "ipython",
    "version": 3
   },
   "file_extension": ".py",
   "mimetype": "text/x-python",
   "name": "python",
   "nbconvert_exporter": "python",
   "pygments_lexer": "ipython3",
   "version": "3.11.5"
  }
 },
 "nbformat": 4,
 "nbformat_minor": 5
}
